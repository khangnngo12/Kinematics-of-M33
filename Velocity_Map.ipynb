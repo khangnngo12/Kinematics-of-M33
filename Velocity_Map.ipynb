{
 "cells": [
  {
   "cell_type": "code",
   "execution_count": null,
   "metadata": {},
   "outputs": [],
   "source": [
    "import numpy as np\n",
    "import matplotlib.pyplot as plt\n",
    "import pandas as pd\n",
    "from astropy.io import fits\n",
    "import os.path"
   ]
  },
  {
   "cell_type": "markdown",
   "metadata": {},
   "source": [
    "## Variables Pannel"
   ]
  },
  {
   "cell_type": "code",
   "execution_count": null,
   "metadata": {},
   "outputs": [],
   "source": [
    "mask_name = \"E1M33R\" #Input mask name"
   ]
  },
  {
   "cell_type": "markdown",
   "metadata": {},
   "source": [
    "## Get Excluded and Includes Slit Numbers"
   ]
  },
  {
   "cell_type": "code",
   "execution_count": null,
   "metadata": {},
   "outputs": [],
   "source": [
    "def get_exclusions():\n",
    "    filepath = 'ISM_EM_LINES.txt'\n",
    "    fp = open(filepath)\n",
    "    all_data = []\n",
    "    for line in (fp):\n",
    "        mask_name = line.split(':')[0].split('_')[0]\n",
    "        slit_number = line.split(':')[1].strip().split(\" \")[0]\n",
    "        if len(slit_number) == 2:\n",
    "            slit_number = '0' + slit_number\n",
    "        elif len(slit_number) == 1:\n",
    "            slit_number = '00' + slit_number\n",
    "        else:\n",
    "            pass\n",
    "        object_id = line.split(':')[1].strip().split()[1]\n",
    "        data = {}\n",
    "        data['mask_name'] = mask_name\n",
    "        data['slit_number'] = slit_number\n",
    "        data['object_id'] = object_id\n",
    "        all_data.append(data)\n",
    "    return all_data     "
   ]
  },
  {
   "cell_type": "code",
   "execution_count": null,
   "metadata": {},
   "outputs": [],
   "source": [
    "def get_files_to_include(folder):\n",
    "    import os\n",
    "    list_of_files_to_include = []\n",
    "    list_of_files_to_exclude = []\n",
    "    serendip_files = []\n",
    "    all_file_names_in_folder = os.listdir('data/{}'.format(folder))\n",
    "    y = len(all_file_names_in_folder)\n",
    "    print(\"The number of files in the folder is {0}\".format(y))\n",
    "    all_data = get_exclusions()\n",
    "    len_all_data = len(all_data)\n",
    "    for n in range(y):\n",
    "        parts_of_file_name = all_file_names_in_folder[n].split(\".\")\n",
    "        if parts_of_file_name[0] == 'spec1d': # avoids hidden DS_Store files on my mac\n",
    "            object_id = parts_of_file_name[3]\n",
    "            slit_number = parts_of_file_name[2]\n",
    "            mask_name = parts_of_file_name[1]\n",
    "            should_include = True\n",
    "            should_exclude = True\n",
    "            for k in range(len_all_data):\n",
    "                if ((object_id == all_data[k]['object_id']) and (slit_number == all_data[k]['slit_number']) and (mask_name == all_data[k]['mask_name'])):\n",
    "                    should_include = False\n",
    "                    should_exclude = True\n",
    "                if 'serendip' in object_id:\n",
    "                    should_include = False\n",
    "                    should_exclude = False\n",
    "            if should_include == True:\n",
    "                list_of_files_to_include.append(all_file_names_in_folder[n])       \n",
    "            elif should_exclude == True:\n",
    "                list_of_files_to_exclude.append(all_file_names_in_folder[n])\n",
    "            elif should_include == False & should_exclude == False:\n",
    "                serendip_files.append(all_file_names_in_folder[n])\n",
    "    \n",
    "    print('The number of files left after exclusions is {0}'.format(len(list_of_files_to_include)))\n",
    "    \n",
    "    return sorted(list_of_files_to_include), sorted(list_of_files_to_exclude), sorted(serendip_files)\n"
   ]
  },
  {
   "cell_type": "code",
   "execution_count": null,
   "metadata": {},
   "outputs": [],
   "source": [
    "def get_slit_nums(files):\n",
    "    \n",
    "    slit_nums = []\n",
    "    \n",
    "    if len(files) > 1:\n",
    "    \n",
    "        for i in range(len(files)):\n",
    "            parts_of_file_name = files[i].split(\".\")\n",
    "            slit_num = parts_of_file_name[2]\n",
    "            slit_nums.append(int(slit_num))\n",
    "            \n",
    "    return slit_nums"
   ]
  },
  {
   "cell_type": "code",
   "execution_count": null,
   "metadata": {},
   "outputs": [],
   "source": [
    "#filtering files\n",
    "list_of_files_to_include, list_of_files_to_exclude, list_of_serendip_files = get_files_to_include(mask_name)\n",
    "\n",
    "file_names = list_of_files_to_include #included\n",
    "file_names_exclude = list_of_files_to_exclude #excluded\n",
    "file_names_serendip = list_of_serendip_files #serendips"
   ]
  },
  {
   "cell_type": "code",
   "execution_count": null,
   "metadata": {},
   "outputs": [],
   "source": [
    "slit_nums = get_slit_nums(file_names)\n",
    "slit_nums_exclude = get_slit_nums(file_names_exclude)\n",
    "\n",
    "print(\"Slit # to INCLUDE in median calculation: {0}\".format(slit_nums))\n",
    "print(\"Slit # to EXCLUDE: {0}\".format(slit_nums_exclude))\n",
    "print(\"Len of EXCL Slits: {0}\".format(len(slit_nums_exclude)))"
   ]
  },
  {
   "cell_type": "markdown",
   "metadata": {},
   "source": [
    "## Read RA and DEC"
   ]
  },
  {
   "cell_type": "code",
   "execution_count": null,
   "metadata": {},
   "outputs": [],
   "source": [
    "def read_sky_coor(mask_name,list_of_excl_files,slit_nums_exclude):\n",
    "    \n",
    "    ra = [] #in deg\n",
    "    dec = [] #in deg\n",
    "    \n",
    "    for file in list_of_excl_files:\n",
    "        #extracting RA and DEC from data files\n",
    "        open_fits = fits.open(\"./data/{0}/{1}\".format(mask_name,file))\n",
    "        ra_obj = open_fits[1].header[\"RA_OBJ\"].split(\":\") #[Hour,Min,Sec]\n",
    "        dec_obj = open_fits[1].header[\"DEC_OBJ\"].strip(\"+\").split(\":\") #[Deg,Min,Sec]\n",
    "        \n",
    "        #converting RA (HMS) to degrees format\n",
    "        ra_obj_deg = (float(ra_obj[0]) + (float(ra_obj[1])/60) + (float(ra_obj[2])/3600)) * 15\n",
    "        ra.append(ra_obj_deg)\n",
    "        \n",
    "        #converting Dec (DMS) to degrees format\n",
    "        dec_obj_deg = (float(dec_obj[0]) + (float(dec_obj[1])/60) + (float(dec_obj[2])/3600))\n",
    "        dec.append(dec_obj_deg)\n",
    "    \n",
    "    #create DataFrame\n",
    "    df = pd.DataFrame({\"Mask Name\":np.full(len(ra),mask_name),\"Slit Number\":slit_nums_exclude\n",
    "                       ,\"RA\":ra,\"DEC\":dec})\n",
    "    \n",
    "    return df"
   ]
  },
  {
   "cell_type": "code",
   "execution_count": null,
   "metadata": {},
   "outputs": [],
   "source": [
    "df = read_sky_coor(mask_name,file_names_exclude,slit_nums_exclude)"
   ]
  },
  {
   "cell_type": "markdown",
   "metadata": {},
   "source": [
    "## Extract Redshift"
   ]
  },
  {
   "cell_type": "code",
   "execution_count": null,
   "metadata": {},
   "outputs": [],
   "source": [
    "import numpy\n",
    "def loadMarzResults(filepath):\n",
    "    return numpy.genfromtxt(filepath, delimiter=',', skip_header=2, autostrip=True, names=True, dtype=None)"
   ]
  },
  {
   "cell_type": "code",
   "execution_count": null,
   "metadata": {},
   "outputs": [],
   "source": [
    "#arrays containing all slits processed in MARZ\n",
    "res = loadMarzResults(\"./Marz_Results (Redone)/{0}_Marz_KN.mz\".format(mask_name)) \n",
    "confident = res[res['QOP'] == 4]"
   ]
  },
  {
   "cell_type": "code",
   "execution_count": null,
   "metadata": {},
   "outputs": [],
   "source": [
    "redshift = {} #empty dict for redshift value\n",
    "QOP = {} #empty dict for QOP\n",
    "\n",
    "for n in range(len(res)): #sorting \n",
    "    redshift[\"Slit_{0}\".format(slit_nums_exclude[n])] = res[n][12]*300000 #km/s\n",
    "    QOP[\"Slit_{0}\".format(slit_nums_exclude[n])] = res[n][13]\n",
    "\n",
    "df[\"Redshift\"] = redshift.values() #adding column titled \"Redshift\" into DF\n",
    "df[\"QOP\"] = QOP.values() #adding column titled \"QOP\" into DF"
   ]
  },
  {
   "cell_type": "markdown",
   "metadata": {},
   "source": [
    "## Saving DataFrame as a CSV file"
   ]
  },
  {
   "cell_type": "code",
   "execution_count": null,
   "metadata": {},
   "outputs": [],
   "source": [
    "def savingdf_csv(df):\n",
    "    if os.path.isfile(\"./Redshift CSV/Redshift.csv\") == False: #isfile check if a file exist\n",
    "        df.to_csv(\"./Redshift CSV/Redshift.csv\",index=False)\n",
    "    else:\n",
    "        csv_to_df = pd.read_csv(\"./Redshift CSV/Redshift.csv\")\n",
    "        new_df = pd.concat([csv_to_df,df]) #concat add two DF together \n",
    "        new_df.to_csv(\"./Redshift CSV/Redshift.csv\",index=False) #put index_column = False so that \n",
    "        #the overwritten csv file don't have extra column called \"unnamed\""
   ]
  },
  {
   "cell_type": "code",
   "execution_count": null,
   "metadata": {},
   "outputs": [],
   "source": [
    "savingdf_csv(df)"
   ]
  },
  {
   "cell_type": "markdown",
   "metadata": {},
   "source": [
    "## Plotting"
   ]
  },
  {
   "cell_type": "code",
   "execution_count": null,
   "metadata": {},
   "outputs": [],
   "source": [
    "df1 = pd.read_csv(\"./Redshift CSV/Redshift.csv\")\n",
    "df1_qop2_sorted = df1[\"QOP\"] >= 2 #use only values that has a QOP of >= 2\n",
    "df1_qop3_sorted = df1[\"QOP\"] == 3 #use only values that has a QOP of 3"
   ]
  },
  {
   "cell_type": "code",
   "execution_count": null,
   "metadata": {},
   "outputs": [],
   "source": [
    "fig,ax = plt.subplots(1)\n",
    "ax.set_xlabel(\"Right Ascension (deg)\")\n",
    "ax.set_ylabel(\"Declination (deg)\")\n",
    "ax.set_title(\"M33 Velocity Color Map (QOP >= 2)\")\n",
    "ax.invert_xaxis()\n",
    "ax.set_aspect(1/0.861)\n",
    "cc_map = ax.scatter(df1[\"RA\"][df1_qop2_sorted]\n",
    "                    ,df1[\"DEC\"][df1_qop2_sorted]\n",
    "                    ,c=df1[\"Redshift\"][df1_qop2_sorted],s=7,cmap='magma')\n",
    "plt.colorbar(cc_map,label=\"Velocity (km/s)\")\n",
    "fig.set_figwidth(5)\n",
    "fig.set_figheight(5)\n",
    "plt.savefig(\"Velocity Map (QOP >= 2)\")"
   ]
  },
  {
   "cell_type": "code",
   "execution_count": null,
   "metadata": {},
   "outputs": [],
   "source": [
    "fig,ax = plt.subplots(1)\n",
    "ax.set_xlabel(\"Right Ascension (deg)\")\n",
    "ax.set_ylabel(\"Declination (deg)\")\n",
    "ax.set_title(\"M33 Velocity Color Map (QOP == 3)\")\n",
    "ax.set_aspect(1/0.861)\n",
    "ax.invert_xaxis()\n",
    "cc_map = ax.scatter(df1[\"RA\"][df1_qop3_sorted]\n",
    "                    ,df1[\"DEC\"][df1_qop3_sorted]\n",
    "                    ,c=df1[\"Redshift\"][df1_qop3_sorted],s=7,cmap='magma')\n",
    "plt.colorbar(cc_map,label=\"Velocity (km/s)\")\n",
    "fig.set_figwidth(5)\n",
    "fig.set_figheight(5)\n",
    "plt.savefig(\"Velocity Map\")"
   ]
  },
  {
   "cell_type": "markdown",
   "metadata": {},
   "source": [
    "## Using Delta_RA and Delta_Dec"
   ]
  },
  {
   "cell_type": "code",
   "execution_count": null,
   "metadata": {},
   "outputs": [],
   "source": [
    "#ra_m32 = 01:33:50.8966\n",
    "#dec_m32 = +30:39:36.630\n",
    "ra_m32 = (1 + (33/60) + (50.8966/3600))*15 #in deg\n",
    "dec_m32 = (30 + (39/60) + (36.630/3600)) # in deg"
   ]
  },
  {
   "cell_type": "code",
   "execution_count": null,
   "metadata": {},
   "outputs": [],
   "source": [
    "fig,ax = plt.subplots(1)\n",
    "ax.set_xlabel(\"Delta RA (deg)\")\n",
    "ax.set_ylabel(\"Delta Dec (deg)\")\n",
    "ax.set_title(\"M33 Velocity Color Map (QOP >= 2)\")\n",
    "ax.invert_xaxis()\n",
    "ax.set_aspect(\"equal\")\n",
    "cc_map = ax.scatter(((df1[\"RA\"][df1_qop2_sorted]-ra_m32)*np.cos(dec_m32))\n",
    "                    ,(df1[\"DEC\"][df1_qop2_sorted]-dec_m32)\n",
    "                    ,c=df1[\"Redshift\"][df1_qop2_sorted],s=7,cmap='magma')\n",
    "plt.colorbar(cc_map,label=\"Velocity (km/s)\")\n",
    "fig.set_figwidth(5)\n",
    "fig.set_figheight(5)\n",
    "plt.savefig(\"Velocity Map (QOP >= 2) w Del RA and Dec\")"
   ]
  },
  {
   "cell_type": "code",
   "execution_count": null,
   "metadata": {},
   "outputs": [],
   "source": [
    "fig,ax = plt.subplots(1)\n",
    "ax.set_xlabel(\"Delta RA (deg)\")\n",
    "ax.set_ylabel(\"Delta Dec (deg)\")\n",
    "ax.set_title(\"M33 Velocity Color Map (QOP == 3)\")\n",
    "ax.invert_xaxis()\n",
    "ax.set_aspect(\"equal\")\n",
    "cc_map = ax.scatter(((df1[\"RA\"][df1_qop3_sorted]-ra_m32)*np.cos(dec_m32))\n",
    "                    ,(df1[\"DEC\"][df1_qop3_sorted]-dec_m32)\n",
    "                    ,c=df1[\"Redshift\"][df1_qop3_sorted],s=7,cmap='magma')\n",
    "plt.colorbar(cc_map,label=\"Velocity (km/s)\")\n",
    "fig.set_figwidth(5)\n",
    "fig.set_figheight(5)\n",
    "plt.savefig(\"Velocity Map w Del RA and Dec\")"
   ]
  },
  {
   "cell_type": "markdown",
   "metadata": {},
   "source": [
    "## Changes to E1M33R (3/24)"
   ]
  },
  {
   "cell_type": "code",
   "execution_count": null,
   "metadata": {},
   "outputs": [],
   "source": [
    "redshiftCSV = pd.read_csv(\"Redshift CSV/Redshift.csv\")"
   ]
  },
  {
   "cell_type": "code",
   "execution_count": null,
   "metadata": {},
   "outputs": [],
   "source": [
    "E1M33Ridx = redshiftCSV[\"Mask Name\"].isin([\"E1M33R\"])"
   ]
  },
  {
   "cell_type": "code",
   "execution_count": null,
   "metadata": {},
   "outputs": [],
   "source": [
    "idx = np.where(E1M33Ridx)\n",
    "print(idx[0])"
   ]
  },
  {
   "cell_type": "code",
   "execution_count": null,
   "metadata": {},
   "outputs": [],
   "source": [
    "redshiftCSV.drop(idx[0],inplace=True)"
   ]
  },
  {
   "cell_type": "code",
   "execution_count": null,
   "metadata": {},
   "outputs": [],
   "source": [
    "redshiftCSV.to_csv(\"./Redshift CSV/Redshift.csv\",index=False)"
   ]
  },
  {
   "cell_type": "code",
   "execution_count": null,
   "metadata": {},
   "outputs": [],
   "source": []
  }
 ],
 "metadata": {
  "kernelspec": {
   "display_name": "Python 3",
   "language": "python",
   "name": "python3"
  },
  "language_info": {
   "codemirror_mode": {
    "name": "ipython",
    "version": 3
   },
   "file_extension": ".py",
   "mimetype": "text/x-python",
   "name": "python",
   "nbconvert_exporter": "python",
   "pygments_lexer": "ipython3",
   "version": "3.7.6"
  }
 },
 "nbformat": 4,
 "nbformat_minor": 4
}
