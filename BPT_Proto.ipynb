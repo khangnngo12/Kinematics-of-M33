{
 "cells": [
  {
   "cell_type": "markdown",
   "metadata": {},
   "source": [
    "## Import"
   ]
  },
  {
   "cell_type": "code",
   "execution_count": null,
   "metadata": {},
   "outputs": [],
   "source": [
    "import os\n",
    "import numpy as np \n",
    "from astropy.io import fits \n",
    "import matplotlib.pyplot as plt \n",
    "import py_specrebin_vec\n",
    "from matplotlib import rc\n",
    "import pandas as pd\n",
    "from scipy import optimize\n",
    "path_name = '.'"
   ]
  },
  {
   "cell_type": "markdown",
   "metadata": {},
   "source": [
    "## Variable Pannel"
   ]
  },
  {
   "cell_type": "code",
   "execution_count": null,
   "metadata": {},
   "outputs": [],
   "source": [
    "mask_name = \"A1M33P\" #Enter your mask here!\n",
    "grating = 600 #Keep the grating 600. BPT doesn't use 1200 grating."
   ]
  },
  {
   "cell_type": "markdown",
   "metadata": {},
   "source": [
    "## Define Wavelength"
   ]
  },
  {
   "cell_type": "code",
   "execution_count": null,
   "metadata": {},
   "outputs": [],
   "source": [
    "new_wave_600 = np.arange(4000, 11000, .65) \n",
    "new_wave_1200 = np.arange(6000, 11000, .33) "
   ]
  },
  {
   "cell_type": "markdown",
   "metadata": {},
   "source": [
    "## Read Data"
   ]
  },
  {
   "cell_type": "code",
   "execution_count": null,
   "metadata": {},
   "outputs": [],
   "source": [
    "Data = fits.open(\"./AGST Subtracted Spectra/{}_AGST_Subtracted_Spectra.fits.gz\".format(mask_name))\n",
    "AGST_RBFlux = Data[1].data #Read and extract data"
   ]
  },
  {
   "cell_type": "markdown",
   "metadata": {},
   "source": [
    "## Function To Read ISM_EM_LINES.txt & Extract Slit # of Excluded Slits"
   ]
  },
  {
   "cell_type": "code",
   "execution_count": null,
   "metadata": {},
   "outputs": [],
   "source": [
    "def get_exclusions():\n",
    "    filepath = 'ISM_EM_LINES.txt'\n",
    "    fp = open(filepath)\n",
    "    all_data = []\n",
    "    for line in (fp):\n",
    "        mask_name = line.split(':')[0].split('_')[0]\n",
    "        slit_number = line.split(':')[1].strip().split(\" \")[0]\n",
    "        if len(slit_number) == 2:\n",
    "            slit_number = '0' + slit_number\n",
    "        elif len(slit_number) == 1:\n",
    "            slit_number = '00' + slit_number\n",
    "        else:\n",
    "            pass\n",
    "        object_id = line.split(':')[1].strip().split()[1]\n",
    "        data = {}\n",
    "        data['mask_name'] = mask_name\n",
    "        data['slit_number'] = slit_number\n",
    "        data['object_id'] = object_id\n",
    "        all_data.append(data)\n",
    "    return all_data     "
   ]
  },
  {
   "cell_type": "code",
   "execution_count": null,
   "metadata": {},
   "outputs": [],
   "source": [
    "def get_files_to_include(folder):\n",
    "    import os\n",
    "    list_of_files_to_include = []\n",
    "    list_of_files_to_exclude = []\n",
    "    serendip_files = []\n",
    "    all_file_names_in_folder = os.listdir('data/{}'.format(folder))\n",
    "    y = len(all_file_names_in_folder)\n",
    "    print(\"The number of files in the folder is {0}\".format(y))\n",
    "    all_data = get_exclusions()\n",
    "    len_all_data = len(all_data)\n",
    "    for n in range(y):\n",
    "        parts_of_file_name = all_file_names_in_folder[n].split(\".\")\n",
    "        if parts_of_file_name[0] == 'spec1d': # avoids hidden DS_Store files on my mac\n",
    "            object_id = parts_of_file_name[3]\n",
    "            slit_number = parts_of_file_name[2]\n",
    "            mask_name = parts_of_file_name[1]\n",
    "            should_include = True\n",
    "            should_exclude = True\n",
    "            for k in range(len_all_data):\n",
    "                if ((object_id == all_data[k]['object_id']) and (slit_number == all_data[k]['slit_number']) and (mask_name == all_data[k]['mask_name'])):\n",
    "                    should_include = False\n",
    "                    should_exclude = True\n",
    "                if 'serendip' in object_id:\n",
    "                    should_include = False\n",
    "                    should_exclude = False\n",
    "            if should_include == True:\n",
    "                list_of_files_to_include.append(all_file_names_in_folder[n])       \n",
    "            elif should_exclude == True:\n",
    "                list_of_files_to_exclude.append(all_file_names_in_folder[n])\n",
    "            elif should_include == False & should_exclude == False:\n",
    "                serendip_files.append(all_file_names_in_folder[n])\n",
    "    \n",
    "    print('The number of files left after exclusions is {0}'.format(len(list_of_files_to_include)))\n",
    "    \n",
    "    return sorted(list_of_files_to_include), sorted(list_of_files_to_exclude), sorted(serendip_files)\n"
   ]
  },
  {
   "cell_type": "code",
   "execution_count": null,
   "metadata": {},
   "outputs": [],
   "source": [
    "def get_slit_nums(files):\n",
    "    \n",
    "    slit_nums = []\n",
    "    \n",
    "    if len(files) > 1:\n",
    "    \n",
    "        for i in range(len(files)):\n",
    "            parts_of_file_name = files[i].split(\".\")\n",
    "            slit_num = parts_of_file_name[2]\n",
    "            slit_nums.append(int(slit_num))\n",
    "            \n",
    "    return slit_nums"
   ]
  },
  {
   "cell_type": "markdown",
   "metadata": {},
   "source": [
    "## Calls To Get Slit Numbers"
   ]
  },
  {
   "cell_type": "code",
   "execution_count": null,
   "metadata": {},
   "outputs": [],
   "source": [
    "#filtering files\n",
    "list_of_files_to_include, list_of_files_to_exclude, list_of_serendip_files = get_files_to_include(mask_name)\n",
    "\n",
    "file_names = list_of_files_to_include\n",
    "file_names_exclude = list_of_files_to_exclude\n",
    "file_names_serendip = list_of_serendip_files\n",
    "file_names_all = list_of_files_to_include + list_of_files_to_exclude"
   ]
  },
  {
   "cell_type": "code",
   "execution_count": null,
   "metadata": {},
   "outputs": [],
   "source": [
    "slit_nums = get_slit_nums(file_names) #get slit # of INCLUDED slits\n",
    "slit_nums_exclude = get_slit_nums(file_names_exclude) #get slit # of EXCLUDED slits\n",
    "all_slit_nums = get_slit_nums(file_names_all) #slit # of INCLUDED & EXCLUDED slits\n",
    "\n",
    "print(\"Slit # to INCLUDE in median calculation: {0}\".format(slit_nums))\n",
    "print(\"Slit # to EXCLUDE: {0}\".format(slit_nums_exclude))"
   ]
  },
  {
   "cell_type": "markdown",
   "metadata": {},
   "source": [
    "## View ONE"
   ]
  },
  {
   "cell_type": "code",
   "execution_count": null,
   "metadata": {},
   "outputs": [],
   "source": [
    "slit_number = 4\n",
    "plt.plot(new_wave_600,AGST_RBFlux[slit_nums_exclude.index(slit_number)])\n",
    "#plt.ylim(-50,100)\n",
    "plt.xlim(4800,5000)\n",
    "#plt.xlim(6500,6700)"
   ]
  },
  {
   "cell_type": "markdown",
   "metadata": {},
   "source": [
    "## View ALL"
   ]
  },
  {
   "cell_type": "code",
   "execution_count": null,
   "metadata": {},
   "outputs": [],
   "source": [
    "def Emission_View(slit_nums_exclude,AGST_RebinnedFlux): #Function design to display Hb, OIII, Ha, and NII lines.\n",
    "    for index in range(len(slit_nums_exclude)):\n",
    "        fig,ax = plt.subplots(2,2) \n",
    "        \n",
    "        #H Beta\n",
    "        fig.suptitle(\"Mask:{} Slit #:{}\".format(mask_name,slit_nums_exclude[index]),fontweight=\"bold\")\n",
    "        ax[0,0].plot(new_wave_600,AGST_RebinnedFlux[index])\n",
    "        ax[0,0].set_xlim(4840,4880)\n",
    "        ax[0,0].set_ylim(-10,100)\n",
    "        ax[0,0].axvline(4861,-500,500,linestyle=\"--\",c=\"black\")\n",
    "        ax[0,0].set_title(\"H_Beta\")\n",
    "        ax[0,0].set_xlabel(\"Wavelength ($\\AA$)\")\n",
    "        ax[0,0].set_ylabel(\"Flux (e/hr)\")\n",
    "        \n",
    "        #OIII\n",
    "        ax[1,0].plot(new_wave_600,AGST_RebinnedFlux[index])\n",
    "        ax[1,0].set_xlim(4980,5020)\n",
    "        ax[1,0].set_ylim(-10,100)\n",
    "        ax[1,0].axvline(5007,-500,500,linestyle=\"--\",c=\"black\")\n",
    "        ax[1,0].set_title(\"OIII\")\n",
    "        ax[1,0].set_xlabel(\"Wavelength ($\\AA$)\")\n",
    "        ax[1,0].set_ylabel(\"Flux (e/hr)\")\n",
    "        \n",
    "        #H Alpha\n",
    "        ax[0,1].plot(new_wave_600,AGST_RebinnedFlux[index])\n",
    "        ax[0,1].set_xlim(6540,6580)\n",
    "        ax[0,1].set_ylim(-10,100)\n",
    "        ax[0,1].axvline(6562,-500,500,linestyle=\"--\",c=\"black\")\n",
    "        ax[0,1].set_title(\"H_Alpha\")\n",
    "        ax[0,1].set_xlabel(\"Wavelength ($\\AA$)\")\n",
    "        ax[0,1].set_ylabel(\"Flux (e/hr)\")\n",
    "        \n",
    "        #NII\n",
    "        ax[1,1].plot(new_wave_600,AGST_RebinnedFlux[index])\n",
    "        ax[1,1].set_xlim(6565,6605)\n",
    "        ax[1,1].set_ylim(-10,100)\n",
    "        ax[1,1].axvline(6583,-500,500,linestyle=\"--\",c=\"black\")\n",
    "        ax[1,1].set_title(\"NII\")\n",
    "        ax[1,1].set_xlabel(\"Wavelength ($\\AA$)\")\n",
    "        ax[1,1].set_ylabel(\"Flux (e/hr)\")\n",
    "        plt.tight_layout()\n",
    "        \n",
    "        plt.show()\n",
    "            "
   ]
  },
  {
   "cell_type": "code",
   "execution_count": null,
   "metadata": {},
   "outputs": [],
   "source": [
    "Emission_View(slit_nums_exclude,AGST_RBFlux) #Call the function above"
   ]
  },
  {
   "cell_type": "markdown",
   "metadata": {},
   "source": [
    "## Integral Testing Area"
   ]
  },
  {
   "cell_type": "markdown",
   "metadata": {},
   "source": [
    "## Gaussian Integral Function"
   ]
  },
  {
   "cell_type": "code",
   "execution_count": null,
   "metadata": {},
   "outputs": [],
   "source": [
    "def gaussian(x, amplitude, mean, stddev):\n",
    "    return amplitude*np.exp(-((x - mean)**2/(2*(stddev**2))))"
   ]
  },
  {
   "cell_type": "code",
   "execution_count": null,
   "metadata": {},
   "outputs": [],
   "source": [
    "def area(window_min,window_max,addons_window_pixels,flux,wave=new_wave_600):\n",
    "    \n",
    "    #1st window (Search window)\n",
    "    WavWin_Bool = (wave > window_min) & (wave < window_max) #Boolean array of wavelength between two set limits\n",
    "    Window_X = wave[WavWin_Bool] #Use boolean array to index x-values of first window\n",
    "    Window_Y = flux[WavWin_Bool] #Use boolean array to index y-values of first window\n",
    "    \n",
    "    #2nd window (Capture window)\n",
    "    Peak_Idx = list(flux).index(max(Window_Y)) #Determine the index of the peak\n",
    "    New_Window_Lim = np.array([Peak_Idx-addons_window_pixels,Peak_Idx+addons_window_pixels]) #Set pixel length of second window\n",
    "    Wavelength = wave[New_Window_Lim[0]:New_Window_Lim[1]] #Wavelength of second window\n",
    "    Flux = flux[New_Window_Lim[0]:New_Window_Lim[1]] #Flux of second window\n",
    "    \n",
    "    #Calculate Amplitude, Mean, and Standard Dev\n",
    "    p0_A = max(Flux) #Guess Amplitude\n",
    "    p0_mu = Wavelength[list(Flux).index(p0_A)] #Guess Mean\n",
    "    p0_sigma = np.std(Wavelength) #Guess Standard Dev\n",
    "    popt,_ = optimize.curve_fit(gaussian,Wavelength,Flux,p0=[p0_A,p0_mu,p0_sigma])\n",
    "    \n",
    "    #Calculate line strength\n",
    "    Amplitude = popt[0]\n",
    "    STD = popt[2]\n",
    "    Line_STR = Amplitude * STD #Using the Amp*SD/0.3989 formula. Ratio ignore constant.\n",
    "    \n",
    "    #Visual inspection\n",
    "    gaussian_x = np.linspace(wave[New_Window_Lim[0]],wave[New_Window_Lim[1]],100)\n",
    "    gaussian_y = gaussian(gaussian_x,popt[0],popt[1],popt[2])\n",
    "    plt.plot(Window_X,Window_Y,color=\"black\",label=\"First Window\")\n",
    "    plt.plot(Wavelength,Flux,color=\"blue\",label=\"Second Window\")\n",
    "    plt.plot(gaussian_x,gaussian_y,color=\"red\",linestyle=\"--\",label=\"Gaussian\")\n",
    "    plt.vlines(wave[New_Window_Lim[0]],-500,500,linestyle=\"--\",color=\"green\",label=\"2nd Window Limit\")\n",
    "    plt.vlines(wave[New_Window_Lim[1]],-500,500,linestyle=\"--\",color=\"green\",label=\"2nd Window Limit\")\n",
    "    plt.xlim(window_min,window_max)\n",
    "    plt.ylim(-10,150)\n",
    "    plt.legend()\n",
    "    \n",
    "    return Line_STR"
   ]
  },
  {
   "cell_type": "code",
   "execution_count": null,
   "metadata": {},
   "outputs": [],
   "source": [
    "Line_STR = area(4840,4900,15,data_of_s49)"
   ]
  },
  {
   "cell_type": "markdown",
   "metadata": {},
   "source": [
    "### Gaussian Fitting "
   ]
  },
  {
   "cell_type": "code",
   "execution_count": null,
   "metadata": {},
   "outputs": [],
   "source": [
    "from scipy import optimize\n",
    "\n",
    "def gaussian(x, amplitude, mean, stddev):\n",
    "    return amplitude*np.exp(-((x - mean)**2/(2*(stddev**2))))"
   ]
  },
  {
   "cell_type": "code",
   "execution_count": null,
   "metadata": {},
   "outputs": [],
   "source": [
    "x_original = new_wave_600[1310:1340]\n",
    "#x_original = new_wave_600[3960:3990]\n",
    "y_original = data_of_s49[1310:1340]\n",
    "#y_original = data_of_s49[3960:3990]\n",
    "popt, _ = optimize.curve_fit(gaussian,x_original,y_original,p0=[max(y_original),x_original[list(y_original).index(max(y_original))],np.std(x_original)])\n"
   ]
  },
  {
   "cell_type": "code",
   "execution_count": null,
   "metadata": {},
   "outputs": [],
   "source": [
    "popt"
   ]
  },
  {
   "cell_type": "code",
   "execution_count": null,
   "metadata": {},
   "outputs": [],
   "source": [
    "plt.plot(x_original, y_original,label=\"Original Data\")\n",
    "x_gaussian = np.linspace(min(x_original),max(x_original),200)\n",
    "y_gaussian = gaussian(x_gaussian, *popt)\n",
    "plt.plot(x_gaussian, gaussian(x_gaussian, *popt),label=\"Gaussian Fit\")\n",
    "#plt.hlines(max(y_gaussian)/2,min(x_gaussian),max(x_gaussian),color='black',linestyle=\"--\",label=\"50% Threshold\")\n",
    "plt.legend()"
   ]
  },
  {
   "cell_type": "code",
   "execution_count": null,
   "metadata": {},
   "outputs": [],
   "source": [
    "import cmath\n",
    "def quad_formula(a,b,c):\n",
    "    return [(-b+cmath.sqrt((b**2)-(4*a*c)))/(2*a), \n",
    "            (-b-cmath.sqrt((b**2)-(4*a*c)))/(2*a)]"
   ]
  },
  {
   "cell_type": "code",
   "execution_count": null,
   "metadata": {},
   "outputs": [],
   "source": [
    "amp = popt[0]\n",
    "mu = popt[1]\n",
    "sigma = popt[2]\n",
    "a_quad = 1\n",
    "b_quad = -2*mu\n",
    "c_quad = mu**2 + np.log((max(y_gaussian)/2)/amp)*2*(sigma**2)"
   ]
  },
  {
   "cell_type": "code",
   "execution_count": null,
   "metadata": {},
   "outputs": [],
   "source": [
    "intercepts = quad_formula(a_quad,b_quad,c_quad)"
   ]
  },
  {
   "cell_type": "code",
   "execution_count": null,
   "metadata": {},
   "outputs": [],
   "source": [
    "intercepts"
   ]
  },
  {
   "cell_type": "code",
   "execution_count": null,
   "metadata": {},
   "outputs": [],
   "source": [
    "from scipy import integrate \n",
    "area_test = integrate.quad(gaussian,intercepts[1],intercepts[0],args=(popt[0],popt[1],popt[2]))"
   ]
  },
  {
   "cell_type": "code",
   "execution_count": null,
   "metadata": {},
   "outputs": [],
   "source": [
    "tot_area_gauss = area_test - ((max(gaussian(x_gaussian, *popt))/2)*(intercepts[0]-intercepts[1]))"
   ]
  },
  {
   "cell_type": "code",
   "execution_count": null,
   "metadata": {},
   "outputs": [],
   "source": [
    "print(\"Total Area (Gaussian Method): {}\".format(tot_area_gauss[0]))"
   ]
  },
  {
   "cell_type": "code",
   "execution_count": null,
   "metadata": {},
   "outputs": [],
   "source": [
    "plt.plot(x_original, y_original,label=\"Original Data\")\n",
    "x_gaussian = np.linspace(min(x_original),max(x_original),200)\n",
    "y_gaussian = gaussian(x_gaussian, *popt)\n",
    "plt.plot(x_gaussian, gaussian(x_gaussian, *popt),label=\"Gaussian Fit\")\n",
    "plt.hlines(max(y_gaussian)/2,min(x_gaussian),max(x_gaussian),color='black',linestyle=\"--\",label=\"50% Threshold\")\n",
    "plt.legend()"
   ]
  },
  {
   "cell_type": "markdown",
   "metadata": {},
   "source": [
    "### Reimann Sum Integral Test"
   ]
  },
  {
   "cell_type": "code",
   "execution_count": null,
   "metadata": {},
   "outputs": [],
   "source": [
    "index_of_s49 = slit_nums_exclude.index(49)\n",
    "data_of_s49 = AGST_RBFlux[index_of_s49]\n",
    "\n",
    "#H Beta\n",
    "fig,ax=plt.subplots(2,2)\n",
    "fig.suptitle(\"Slit #49 Testting\",fontweight=\"bold\")\n",
    "ax[0,0].plot(new_wave_600,data_of_s49)\n",
    "ax[0,0].set_xlim(4840,4880)\n",
    "ax[0,0].set_ylim(-10,100)\n",
    "ax[0,0].axvline(4861,-500,500,linestyle=\"--\",c=\"black\")\n",
    "ax[0,0].axvline(new_wave_600[1310],-500,500,linestyle=\"--\",c=\"red\")\n",
    "ax[0,0].axvline(new_wave_600[1340],-500,500,linestyle=\"--\",c=\"red\")\n",
    "ax[0,0].set_title(\"H_Beta\")\n",
    "ax[0,0].set_xlabel(\"Wavelength\")\n",
    "ax[0,0].set_ylabel(\"Flux\")\n",
    "\n",
    "#OIII\n",
    "ax[1,0].plot(new_wave_600,data_of_s49)\n",
    "ax[1,0].set_xlim(4980,5020)\n",
    "ax[1,0].set_ylim(-10,100)\n",
    "ax[1,0].axvline(5007,-500,500,linestyle=\"--\",c=\"black\")\n",
    "ax[1,0].axvline(new_wave_600[1534],-500,500,linestyle=\"--\",c=\"red\")\n",
    "ax[1,0].axvline(new_wave_600[1564],-500,500,linestyle=\"--\",c=\"red\")\n",
    "ax[1,0].set_title(\"OIII\")\n",
    "ax[1,0].set_xlabel(\"Wavelength\")\n",
    "ax[1,0].set_ylabel(\"Flux\")\n",
    "\n",
    "#H Alpha\n",
    "ax[0,1].plot(new_wave_600,data_of_s49)\n",
    "ax[0,1].set_xlim(6540,6580)\n",
    "ax[0,1].set_ylim(-10,100)\n",
    "ax[0,1].axvline(6562,-500,500,linestyle=\"--\",c=\"black\")\n",
    "ax[0,1].axvline(new_wave_600[3928],-500,500,linestyle=\"--\",c=\"red\")\n",
    "ax[0,1].axvline(new_wave_600[3958],-500,500,linestyle=\"--\",c=\"red\")\n",
    "ax[0,1].set_title(\"H_Alpha\")\n",
    "ax[0,1].set_xlabel(\"Wavelength\")\n",
    "ax[0,1].set_ylabel(\"Flux\")\n",
    "\n",
    "#NII\n",
    "ax[1,1].plot(new_wave_600,data_of_s49)\n",
    "ax[1,1].set_xlim(6565,6605)\n",
    "ax[1,1].set_ylim(-10,100)\n",
    "ax[1,1].axvline(6583,-500,500,linestyle=\"--\",c=\"black\")\n",
    "ax[1,1].axvline(new_wave_600[3960],-500,500,linestyle=\"--\",c=\"red\")\n",
    "ax[1,1].axvline(new_wave_600[3990],-500,500,linestyle=\"--\",c=\"red\")\n",
    "ax[1,1].set_title(\"NII\")\n",
    "ax[1,1].set_xlabel(\"Wavelength\")\n",
    "ax[1,1].set_ylabel(\"Flux\")\n",
    "plt.tight_layout()"
   ]
  },
  {
   "cell_type": "markdown",
   "metadata": {},
   "source": [
    "Set window of 30 pixels"
   ]
  },
  {
   "cell_type": "code",
   "execution_count": null,
   "metadata": {},
   "outputs": [],
   "source": [
    "halfmax_of_s49 = max(data_of_s49[1310:1340])/2 #find 1/2 of the maximum value \n",
    "above_halfmax = data_of_s49[1310:1340] > halfmax_of_s49 #boolean of all values above determined halfmax"
   ]
  },
  {
   "cell_type": "code",
   "execution_count": null,
   "metadata": {},
   "outputs": [],
   "source": [
    "plt.plot(new_wave_600,data_of_s49)\n",
    "plt.scatter(new_wave_600[1310:1340][above_halfmax],data_of_s49[1310:1340][above_halfmax],c=\"black\")\n",
    "plt.hlines(halfmax_of_s49,0,10000,linestyle=\"--\",color=\"black\")\n",
    "plt.title(\"Mark Datapoints Above Threshold\")\n",
    "plt.xlabel(\"Wavelength\")\n",
    "plt.ylabel(\"Flux\")\n",
    "plt.xlim(4840,4880)\n",
    "plt.ylim(-10,100)"
   ]
  },
  {
   "cell_type": "code",
   "execution_count": null,
   "metadata": {},
   "outputs": [],
   "source": [
    "above_halfmax_index = np.where(above_halfmax == True) #find index of all True boolean from above_halfmax\n",
    "left_ends_idx = above_halfmax_index[0][0] - 1 #append first left point below halfmax to current index list\n",
    "right_ends_idx = above_halfmax_index[0][-1] + 1 #append first right point below halfmax to current index list\n",
    "above_halfmax_index = np.sort(np.append(above_halfmax_index,[left_ends_idx,right_ends_idx]))"
   ]
  },
  {
   "cell_type": "code",
   "execution_count": null,
   "metadata": {},
   "outputs": [],
   "source": [
    "Marked_X_Vals = new_wave_600[1310:1340][above_halfmax_index]\n",
    "Marked_Y_Vals = data_of_s49[1310:1340][above_halfmax_index]"
   ]
  },
  {
   "cell_type": "code",
   "execution_count": null,
   "metadata": {},
   "outputs": [],
   "source": [
    "plt.plot(new_wave_600,data_of_s49)\n",
    "plt.scatter(Marked_X_Vals,Marked_Y_Vals,c=\"black\")\n",
    "plt.hlines(halfmax_of_s49,0,10000,linestyle=\"--\",color=\"black\")\n",
    "plt.title(\"Above Threshold Modified\")\n",
    "plt.xlabel(\"Wavelength\")\n",
    "plt.ylabel(\"Flux\")\n",
    "plt.xlim(4855,4865)\n",
    "plt.ylim(-10,100)"
   ]
  },
  {
   "cell_type": "code",
   "execution_count": null,
   "metadata": {},
   "outputs": [],
   "source": [
    "Linear_Func = lambda x,m,b: (m*x)+b\n",
    "Y_Intercept_Func = lambda x,y,m: y-(m*x)\n",
    "X_Value_Func = lambda y,m,b: (y-b)/m"
   ]
  },
  {
   "cell_type": "code",
   "execution_count": null,
   "metadata": {},
   "outputs": [],
   "source": [
    "m = np.diff(Marked_Y_Vals)/np.diff(Marked_X_Vals)\n",
    "b = Y_Intercept_Func(Marked_X_Vals[1:],Marked_Y_Vals[1:],m)\n",
    "                     "
   ]
  },
  {
   "cell_type": "code",
   "execution_count": null,
   "metadata": {},
   "outputs": [],
   "source": [
    "Left_End_x = X_Value_Func(halfmax_of_s49,m[0],b[0])\n",
    "Right_End_x = X_Value_Func(halfmax_of_s49,m[-1],b[-1])"
   ]
  },
  {
   "cell_type": "code",
   "execution_count": null,
   "metadata": {},
   "outputs": [],
   "source": [
    "plt.plot(new_wave_600,data_of_s49)\n",
    "plt.scatter(Marked_X_Vals,Marked_Y_Vals,c=\"black\")\n",
    "plt.scatter(Left_End_x,halfmax_of_s49,c=\"red\")\n",
    "plt.scatter(Right_End_x,halfmax_of_s49,c=\"red\")\n",
    "plt.hlines(halfmax_of_s49,0,10000,linestyle=\"--\",color=\"black\")\n",
    "plt.xlabel(\"Wavelength\")\n",
    "plt.ylabel(\"Flux\")\n",
    "plt.xlim(4855,4865)\n",
    "plt.ylim(-10,100)"
   ]
  },
  {
   "cell_type": "code",
   "execution_count": null,
   "metadata": {},
   "outputs": [],
   "source": [
    "Marked_X_Vals"
   ]
  },
  {
   "cell_type": "code",
   "execution_count": null,
   "metadata": {},
   "outputs": [],
   "source": [
    "Marked_X_Vals[0] = Left_End_x"
   ]
  },
  {
   "cell_type": "code",
   "execution_count": null,
   "metadata": {},
   "outputs": [],
   "source": [
    "Marked_X_Vals"
   ]
  },
  {
   "cell_type": "code",
   "execution_count": null,
   "metadata": {},
   "outputs": [],
   "source": [
    "Marked_X_Vals[-1] = Right_End_x"
   ]
  },
  {
   "cell_type": "code",
   "execution_count": null,
   "metadata": {},
   "outputs": [],
   "source": [
    "Marked_X_Vals"
   ]
  },
  {
   "cell_type": "code",
   "execution_count": null,
   "metadata": {},
   "outputs": [],
   "source": [
    "Marked_Y_Vals[0] = halfmax_of_s49\n",
    "Marked_Y_Vals[-1] = halfmax_of_s49"
   ]
  },
  {
   "cell_type": "code",
   "execution_count": null,
   "metadata": {},
   "outputs": [],
   "source": [
    "Marked_Y_Vals"
   ]
  },
  {
   "cell_type": "code",
   "execution_count": null,
   "metadata": {},
   "outputs": [],
   "source": [
    "plt.plot(new_wave_600,data_of_s49)\n",
    "plt.scatter(Marked_X_Vals,Marked_Y_Vals,c=\"black\")\n",
    "plt.hlines(halfmax_of_s49,0,10000,linestyle=\"--\",color=\"black\")\n",
    "plt.title(\"Final Datapoints Plotted\")\n",
    "plt.xlabel(\"Wavelength\")\n",
    "plt.ylabel(\"Flux\")\n",
    "plt.xlim(4855,4865)\n",
    "plt.ylim(-10,100)\n",
    "plt.fill_between(Marked_X_Vals,Marked_Y_Vals,halfmax_of_s49)"
   ]
  },
  {
   "cell_type": "code",
   "execution_count": null,
   "metadata": {},
   "outputs": [],
   "source": [
    "from scipy import integrate\n",
    "tot_area = 0\n",
    "for idx in range(len(m)):\n",
    "    area = integrate.quad(Linear_Func,Marked_X_Vals[idx],Marked_X_Vals[idx+1],args=(m[idx],b[idx])) \n",
    "    tot_area += (area[0]-((Marked_X_Vals[idx+1]-Marked_X_Vals[idx])*halfmax_of_s49))\n",
    "    print(tot_area)"
   ]
  },
  {
   "cell_type": "code",
   "execution_count": null,
   "metadata": {},
   "outputs": [],
   "source": [
    "print(\"Total Area (Reimann Sum Method): {}\".format(tot_area))"
   ]
  },
  {
   "cell_type": "code",
   "execution_count": null,
   "metadata": {},
   "outputs": [],
   "source": []
  }
 ],
 "metadata": {
  "kernelspec": {
   "display_name": "Python 3",
   "language": "python",
   "name": "python3"
  },
  "language_info": {
   "codemirror_mode": {
    "name": "ipython",
    "version": 3
   },
   "file_extension": ".py",
   "mimetype": "text/x-python",
   "name": "python",
   "nbconvert_exporter": "python",
   "pygments_lexer": "ipython3",
   "version": "3.7.6"
  }
 },
 "nbformat": 4,
 "nbformat_minor": 4
}
